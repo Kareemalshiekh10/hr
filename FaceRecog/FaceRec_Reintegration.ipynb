{
 "cells": [
  {
   "cell_type": "code",
   "execution_count": 1,
   "metadata": {},
   "outputs": [],
   "source": [
    "import cv2\n",
    "import time\n",
    "import face_recognition\n",
    "import numpy as np\n",
    "import os"
   ]
  },
  {
   "cell_type": "code",
   "execution_count": 2,
   "metadata": {},
   "outputs": [
    {
     "name": "stdout",
     "output_type": "stream",
     "text": [
      "Loaded Jack from Database\\Jack\\1.jpg\n",
      "Loaded Kareem from Database\\Kareem\\1.jpg\n",
      "[{'name': 'Jack'}, {'name': 'Kareem'}]\n"
     ]
    }
   ],
   "source": [
    "# Database of known faces\n",
    "known_face_encodings = []  # List of face encodings\n",
    "known_face_metadata = []  # List of metadata corresponding to known faces\n",
    "face_recognition_database_path = \"Database\"\n",
    "\n",
    "\n",
    "# Function to add known faces\n",
    "def load_known_faces():\n",
    "    global known_face_encodings, known_face_metadata\n",
    "    if not os.path.exists(face_recognition_database_path):\n",
    "        print(f\"[!] Directory {face_recognition_database_path} does not exist.\")\n",
    "        return\n",
    "\n",
    "    for folder in os.listdir(face_recognition_database_path):\n",
    "        path = os.path.join(face_recognition_database_path, folder)\n",
    "        if not os.path.isdir(path):\n",
    "            continue\n",
    "\n",
    "        for filename in os.listdir(path):\n",
    "            if filename.endswith('.jpg') or filename.endswith('.png'):\n",
    "                image_path = os.path.join(path, filename)\n",
    "                try:\n",
    "                    face_image = face_recognition.load_image_file(image_path)\n",
    "                    face_encodings = face_recognition.face_encodings(face_image)\n",
    "                    if face_encodings:\n",
    "                        face_encoding = face_encodings[0]\n",
    "                        name = folder\n",
    "                        metadata = {\"name\": name}\n",
    "                        known_face_encodings.append(face_encoding)\n",
    "                        known_face_metadata.append(metadata)\n",
    "                        print(f\"Loaded {name} from {image_path}\")\n",
    "                except Exception as e:\n",
    "                    print(f\"[!] Error processing {image_path}: {e}\")\n",
    "\n",
    "# Load known faces\n",
    "load_known_faces()\n",
    "print(known_face_metadata)\n",
    "# print(known_face_encodings)"
   ]
  },
  {
   "cell_type": "code",
   "execution_count": 7,
   "metadata": {},
   "outputs": [],
   "source": [
    "def identify_person(frame: np.ndarray):\n",
    "    rgb_frame = np.ascontiguousarray(frame[:, :, ::-1])\n",
    "    face_locations = face_recognition.face_locations(rgb_frame)\n",
    "    face_encodings = face_recognition.face_encodings(rgb_frame, face_locations)\n",
    "    \n",
    "    closest_face_distance = float('inf')\n",
    "    closest_face_name = \"Unknown\"\n",
    "    closest_face_location = (0, 0, 0, 0)\n",
    "\n",
    "    for face_encoding, (top, right, bottom, left) in zip(face_encodings, face_locations):\n",
    "        \n",
    "        matches = face_recognition.compare_faces(known_face_encodings, face_encoding)\n",
    "        if True in matches:\n",
    "            first_match_index = matches.index(True)\n",
    "            closest_face_name = known_face_metadata[first_match_index][\"name\"]\n",
    "            closest_face_location = (top, right, bottom, left)\n",
    "    \n",
    "    \n",
    "    return closest_face_name, closest_face_location"
   ]
  },
  {
   "cell_type": "code",
   "execution_count": 8,
   "metadata": {},
   "outputs": [],
   "source": [
    "stream_src = 0\n",
    "cap = cv2.VideoCapture(stream_src)"
   ]
  },
  {
   "cell_type": "code",
   "execution_count": 9,
   "metadata": {},
   "outputs": [],
   "source": [
    "# Create a named window and set the size\n",
    "cv2.namedWindow('Face Rec Inference', cv2.WINDOW_NORMAL)\n",
    "cv2.resizeWindow('Face Rec Inference', 1024, 768)\n"
   ]
  },
  {
   "cell_type": "code",
   "execution_count": 10,
   "metadata": {},
   "outputs": [
    {
     "name": "stdout",
     "output_type": "stream",
     "text": [
      "Unknown\n",
      "Unknown\n",
      "Unknown\n",
      "Unknown\n",
      "Unknown\n",
      "Unknown\n",
      "Unknown\n",
      "Unknown\n",
      "Unknown\n",
      "Unknown\n",
      "Unknown\n",
      "Unknown\n",
      "Unknown\n",
      "Unknown\n",
      "Unknown\n",
      "Kareem\n",
      "Kareem\n",
      "Kareem\n",
      "Kareem\n",
      "Kareem\n",
      "Kareem\n",
      "Kareem\n",
      "Kareem\n",
      "Kareem\n",
      "Unknown\n",
      "Kareem\n",
      "Kareem\n",
      "Kareem\n",
      "Kareem\n",
      "Kareem\n",
      "Kareem\n",
      "Kareem\n",
      "Kareem\n",
      "Kareem\n",
      "Kareem\n",
      "Kareem\n",
      "Kareem\n",
      "Unknown\n",
      "Kareem\n",
      "Unknown\n",
      "Unknown\n",
      "Unknown\n",
      "Unknown\n",
      "Unknown\n",
      "Unknown\n",
      "Unknown\n",
      "Unknown\n",
      "Unknown\n",
      "Unknown\n",
      "Unknown\n",
      "Unknown\n",
      "Unknown\n",
      "Unknown\n",
      "Unknown\n",
      "Unknown\n",
      "Unknown\n",
      "Unknown\n",
      "Unknown\n",
      "Unknown\n",
      "Unknown\n",
      "Unknown\n",
      "Unknown\n",
      "Unknown\n",
      "Unknown\n",
      "Unknown\n",
      "Unknown\n",
      "Unknown\n",
      "Unknown\n",
      "Unknown\n",
      "Unknown\n",
      "Unknown\n",
      "Unknown\n",
      "Unknown\n",
      "Unknown\n"
     ]
    },
    {
     "ename": "AttributeError",
     "evalue": "'cv2.VideoCapture' object has no attribute 'stop'",
     "output_type": "error",
     "traceback": [
      "\u001b[1;31m---------------------------------------------------------------------------\u001b[0m",
      "\u001b[1;31mAttributeError\u001b[0m                            Traceback (most recent call last)",
      "Cell \u001b[1;32mIn[10], line 35\u001b[0m\n\u001b[0;32m     32\u001b[0m     \u001b[38;5;28;01mif\u001b[39;00m cv2\u001b[38;5;241m.\u001b[39mwaitKey(\u001b[38;5;241m1\u001b[39m) \u001b[38;5;241m&\u001b[39m \u001b[38;5;241m0xFF\u001b[39m \u001b[38;5;241m==\u001b[39m \u001b[38;5;28mord\u001b[39m(\u001b[38;5;124m'\u001b[39m\u001b[38;5;124mq\u001b[39m\u001b[38;5;124m'\u001b[39m):\n\u001b[0;32m     33\u001b[0m         \u001b[38;5;28;01mbreak\u001b[39;00m\n\u001b[1;32m---> 35\u001b[0m \u001b[43mcap\u001b[49m\u001b[38;5;241;43m.\u001b[39;49m\u001b[43mstop\u001b[49m()\n\u001b[0;32m     36\u001b[0m cv2\u001b[38;5;241m.\u001b[39mdestroyAllWindows()\n",
      "\u001b[1;31mAttributeError\u001b[0m: 'cv2.VideoCapture' object has no attribute 'stop'"
     ]
    },
    {
     "ename": "",
     "evalue": "",
     "output_type": "error",
     "traceback": [
      "\u001b[1;31mThe Kernel crashed while executing code in the current cell or a previous cell. \n",
      "\u001b[1;31mPlease review the code in the cell(s) to identify a possible cause of the failure. \n",
      "\u001b[1;31mClick <a href='https://aka.ms/vscodeJupyterKernelCrash'>here</a> for more info. \n",
      "\u001b[1;31mView Jupyter <a href='command:jupyter.viewOutput'>log</a> for further details."
     ]
    }
   ],
   "source": [
    "while True:\n",
    "    ret, frame = cap.read()\n",
    "    if not ret:\n",
    "        print(\"Failed to read frame or end of video\")\n",
    "        break\n",
    "    \n",
    "    # convert the frame to numpy array\n",
    "    frame_t = np.array(frame)\n",
    "    \n",
    "    name, face_location = identify_person(frame_t)\n",
    "    print(name)\n",
    "\n",
    "\n",
    "    # display the close point\n",
    "    # cv2.circle(frame, close_point, 5, (0, 255, 0), -1)\n",
    "    # Display the results on the video frame\n",
    "    if name == \"Unknown\":\n",
    "        for (top, right, bottom, left), name in zip(face_recognition.face_locations(frame), [name]):\n",
    "            # Draw a box around the face\n",
    "            cv2.rectangle(frame, (left, top), (right, bottom), (0, 255, 0), 2)\n",
    "            font = cv2.FONT_ITALIC\n",
    "            cv2.putText(frame, name, (left + 6, top - 6), font, 0.5, (0, 255, 0), 1)\n",
    "    else:\n",
    "        top, right, bottom, left = face_location\n",
    "        cv2.rectangle(frame, (left, top), (right, bottom), (0, 255, 0), 2)\n",
    "        font = cv2.FONT_ITALIC\n",
    "        cv2.putText(frame, name, (left + 6, top - 6), font, 0.5, (0, 255, 0), 1)\n",
    "        \n",
    "    cv2.imshow('Face Rec Inference', frame)\n",
    "\n",
    "    # Wait for the correct amount of time to maintain the frame rate\n",
    "    if cv2.waitKey(1) & 0xFF == ord('q'):\n",
    "        break\n",
    "\n",
    "cap.release()\n",
    "cv2.destroyAllWindows()"
   ]
  },
  {
   "cell_type": "code",
   "execution_count": null,
   "metadata": {},
   "outputs": [],
   "source": []
  }
 ],
 "metadata": {
  "kernelspec": {
   "display_name": "Python 3",
   "language": "python",
   "name": "python3"
  },
  "language_info": {
   "codemirror_mode": {
    "name": "ipython",
    "version": 3
   },
   "file_extension": ".py",
   "mimetype": "text/x-python",
   "name": "python",
   "nbconvert_exporter": "python",
   "pygments_lexer": "ipython3",
   "version": "3.12.4"
  }
 },
 "nbformat": 4,
 "nbformat_minor": 2
}
